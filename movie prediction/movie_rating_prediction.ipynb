{
 "cells": [
  {
   "cell_type": "markdown",
   "id": "4fbd527e",
   "metadata": {},
   "source": [
    "# 🎬 Movie Rating Prediction"
   ]
  },
  {
   "cell_type": "code",
   "execution_count": 1,
   "id": "cc5e4591",
   "metadata": {},
   "outputs": [
    {
     "name": "stdout",
     "output_type": "stream",
     "text": [
      "R² Score: 0.142\n",
      "Mean Absolute Error: 1.007\n"
     ]
    }
   ],
   "source": [
    "\n",
    "# Movie Rating Prediction with Genre, Director, and Cast Features\n",
    "\n",
    "## 1. Import Libraries\n",
    "import pandas as pd\n",
    "from sklearn.model_selection import train_test_split\n",
    "from sklearn.linear_model import LinearRegression\n",
    "from sklearn.metrics import r2_score, mean_absolute_error\n",
    "from sklearn.preprocessing import OneHotEncoder\n",
    "from sklearn.compose import ColumnTransformer\n",
    "from sklearn.pipeline import Pipeline\n",
    "\n",
    "## 2. Load Dataset\n",
    "file_path = \"IMDb Movies India.csv\"  # Replace with correct path if different\n",
    "df = pd.read_csv(file_path, encoding=\"ISO-8859-1\")\n",
    "\n",
    "## 3. Clean and Preprocess Data\n",
    "# Drop malformed first row\n",
    "df = df.drop(index=0).reset_index(drop=True)\n",
    "\n",
    "# Convert rating and votes to numeric\n",
    "df[\"Rating\"] = pd.to_numeric(df[\"Rating\"], errors=\"coerce\")\n",
    "df[\"Votes\"] = pd.to_numeric(df[\"Votes\"], errors=\"coerce\")\n",
    "\n",
    "# Drop rows without ratings\n",
    "df = df.dropna(subset=[\"Rating\"])\n",
    "\n",
    "# Keep necessary columns\n",
    "features = [\"Genre\", \"Director\", \"Actor 1\", \"Actor 2\", \"Actor 3\", \"Votes\"]\n",
    "df_model = df[features + [\"Rating\"]].copy()\n",
    "\n",
    "# Fill missing values\n",
    "for col in [\"Genre\", \"Director\", \"Actor 1\", \"Actor 2\", \"Actor 3\"]:\n",
    "    df_model[col] = df_model[col].fillna(\"Unknown\")\n",
    "df_model[\"Votes\"] = df_model[\"Votes\"].fillna(0)\n",
    "\n",
    "## 4. Reduce Cardinality of Categorical Features\n",
    "categorical_features = [\"Genre\", \"Director\", \"Actor 1\", \"Actor 2\", \"Actor 3\"]\n",
    "for col in categorical_features:\n",
    "    top_categories = df_model[col].value_counts().nlargest(20).index\n",
    "    df_model[col] = df_model[col].apply(lambda x: x if x in top_categories else \"Other\")\n",
    "\n",
    "## 5. Prepare Features and Target\n",
    "X = df_model.drop(\"Rating\", axis=1)\n",
    "y = df_model[\"Rating\"]\n",
    "\n",
    "## 6. Create Pipeline and Train Model\n",
    "pipeline = Pipeline(steps=[\n",
    "    (\"preprocessor\", ColumnTransformer([\n",
    "        (\"cat\", OneHotEncoder(handle_unknown=\"ignore\"), categorical_features)\n",
    "    ], remainder='passthrough')),\n",
    "    (\"regressor\", LinearRegression())\n",
    "])\n",
    "\n",
    "X_train, X_test, y_train, y_test = train_test_split(X, y, test_size=0.2, random_state=42)\n",
    "pipeline.fit(X_train, y_train)\n",
    "\n",
    "## 7. Evaluate Model\n",
    "y_pred = pipeline.predict(X_test)\n",
    "r2 = r2_score(y_test, y_pred)\n",
    "mae = mean_absolute_error(y_test, y_pred)\n",
    "\n",
    "print(f\"R² Score: {r2:.3f}\")\n",
    "print(f\"Mean Absolute Error: {mae:.3f}\")\n"
   ]
  }
 ],
 "metadata": {
  "kernelspec": {
   "display_name": "Python 3",
   "language": "python",
   "name": "python3"
  },
  "language_info": {
   "codemirror_mode": {
    "name": "ipython",
    "version": 3
   },
   "file_extension": ".py",
   "mimetype": "text/x-python",
   "name": "python",
   "nbconvert_exporter": "python",
   "pygments_lexer": "ipython3",
   "version": "3.12.10"
  }
 },
 "nbformat": 4,
 "nbformat_minor": 5
}
